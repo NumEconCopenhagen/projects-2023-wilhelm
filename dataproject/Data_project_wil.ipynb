{
 "cells": [
  {
   "cell_type": "code",
   "execution_count": 1,
   "id": "cdd358c9-c708-40fc-89c6-0ed85a1b29e2",
   "metadata": {},
   "outputs": [],
   "source": [
    "import numpy as np\n",
    "import matplotlib.pyplot as plt\n",
    "import pandas as pd\n",
    "\n",
    "%load_ext autoreload\n",
    "%autoreload 2"
   ]
  },
  {
   "cell_type": "code",
   "execution_count": 2,
   "id": "30a0d189-1edf-45e2-bddf-55ad0fd8df5c",
   "metadata": {},
   "outputs": [],
   "source": [
    "#IFR.drop(index='AFRICA', level=1, inplace=True)\n",
    "#IFR.loc['Germany']\n",
    "#IFR.xs(\"Germany\", level=\"Country\")\n",
    "\n",
    "#idx = pd.IndexSlice\n",
    "#IFR.loc[pd.IndexSlice[:, 'Paper'], :]\n",
    "#IFR.loc[idx[:, :, 2003], :]\n",
    "#IFR.loc[pd.IndexSlice['AFRICA', :, :]]\n",
    "\n",
    "#IFR.xs((1993, 'Germany', 'Agriculture'), level=(\"Year\", \"Country\", 'Industry'))"
   ]
  },
  {
   "cell_type": "markdown",
   "id": "564401a1-ae04-4182-aa20-ad29b7ba1209",
   "metadata": {},
   "source": [
    "Formalia\n",
    "- skriv intro\n",
    "- Github mappe\n",
    "- Format\n",
    "\n",
    "Lav grafer\n",
    "\n",
    "Orden formalia \n",
    "\n",
    "Merge datasæt?"
   ]
  },
  {
   "cell_type": "markdown",
   "id": "a73f91d7-ebe0-4a74-8a38-2cd7994418a5",
   "metadata": {},
   "source": [
    "# Read and clean data"
   ]
  },
  {
   "cell_type": "markdown",
   "id": "2ee093ae-e452-43fd-9dbe-c4fc4ca13889",
   "metadata": {},
   "source": [
    "I use data that i use for machines from a project i'm writing. The data has three layers of idexes: year, country and industry. Dealing with this tripple-index has been very difficult,  and i have spent an insane amount of time trying to get everything to work. As of now, i can't get the merge and the visualization right."
   ]
  },
  {
   "cell_type": "code",
   "execution_count": 3,
   "id": "9de7a28c-e63b-4a90-8d50-7fb7ea916cf6",
   "metadata": {},
   "outputs": [],
   "source": [
    "dat = pd.read_excel('Data_project_data.xlsx', sheet_name='Data', index_col=[0,4,2])"
   ]
  },
  {
   "cell_type": "markdown",
   "id": "189063a0-5b07-4598-89c4-b3bd6c838ca4",
   "metadata": {},
   "source": [
    "## Cleaning the data\n",
    "\n",
    "I start by removing the columns 'industry' and 'country', since they contain the same information as 'Industry' and 'Country', respectively."
   ]
  },
  {
   "cell_type": "code",
   "execution_count": 4,
   "id": "1ddf030f-4f24-47d8-8edd-7a7f30c00236",
   "metadata": {},
   "outputs": [],
   "source": [
    "# dropping two columns\n",
    "dat.drop(['country', 'industry', 'Installations'], axis=1, inplace=True)"
   ]
  },
  {
   "cell_type": "markdown",
   "id": "e1911c7d-7d23-43f2-8b0a-38f156199fcb",
   "metadata": {},
   "source": [
    "The data includes a list of observations that are not countries. These are aggregated nubers, like Europe or South East Asia, and i would like the dataset to only consist of countries. \n",
    "\n",
    "I have made a sheet in the excel sheet with a column of the indexes that are not countries, and i loop over this and remove from the data set. \n",
    "\n",
    "Importing the sheet as a dataframe and converting it to a list is not the most elegant solution."
   ]
  },
  {
   "cell_type": "code",
   "execution_count": 5,
   "id": "76c99eac-686a-4b03-b15e-08d56626bdb3",
   "metadata": {},
   "outputs": [],
   "source": [
    "# 1. loading the sheet as a dataframe\n",
    "nc = pd.read_excel('Data_project_data.xlsx', sheet_name='Not countries', header=None)\n",
    "\n",
    "# 2. converting the dataframe to a list\n",
    "NC = nc.values.tolist()\n",
    "\n",
    "# 3. droping all non-countries from the dataframe\n",
    "for x in NC:\n",
    "    dat.drop(index=x, level=1, inplace=True)"
   ]
  },
  {
   "cell_type": "markdown",
   "id": "4be01c7d-a160-48cf-bc78-a11dacd3387d",
   "metadata": {},
   "source": [
    "The data set contains many variables the authors don't use. I have made sheet in the excel containing the unused indexes."
   ]
  },
  {
   "cell_type": "code",
   "execution_count": 6,
   "id": "bf1eda07-5ad7-4aad-b555-b714e3448809",
   "metadata": {},
   "outputs": [],
   "source": [
    "# 1. reading the data as a dataframe\n",
    "nu = pd.read_excel('Data_project_data.xlsx', sheet_name='Not used', header=None)\n",
    "\n",
    "# 2. converting the dataframe to a list\n",
    "NU = nu.values.tolist()\n",
    "\n",
    "# 3. looping over each index and removing it from the data in each year and country. \n",
    "for x in NU:\n",
    "    dat.drop(index=x, level=2, inplace=True)"
   ]
  },
  {
   "cell_type": "markdown",
   "id": "9b57094e-4ff8-4475-9f30-157a00983de4",
   "metadata": {},
   "source": [
    "I change the name of the column, \"Operational stock\", to remove the white space. "
   ]
  },
  {
   "cell_type": "code",
   "execution_count": 7,
   "id": "416d8d00-4f63-440e-b9fd-0127cf3cef20",
   "metadata": {},
   "outputs": [],
   "source": [
    "# 1. creating a dictionary of coulmn names\n",
    "columns_dict = {}\n",
    "columns_dict['Operational stock'] = 'Stock'\n",
    "\n",
    "# 2. renaming the column\n",
    "dat.rename(columns=columns_dict, inplace=True)"
   ]
  },
  {
   "cell_type": "markdown",
   "id": "b34578ec-cb20-4449-b56f-a6aa8a38b1fc",
   "metadata": {},
   "source": [
    "I'm replicating a paper, where the authors use different names for industries. I wan't to be able to merge my data with the authors, and therefore i change the indexes for industries. "
   ]
  },
  {
   "cell_type": "code",
   "execution_count": 8,
   "id": "44fac9d9-86e7-4485-aad2-ea3f022e928a",
   "metadata": {},
   "outputs": [],
   "source": [
    "# 1. creating dictionary of indexes\n",
    "ind_dict = {}\n",
    "ind_dict['Agriculture, forestry, fishing'] = 'Agriculture'\n",
    "ind_dict['Mining and quarrying'] = 'Mining'\n",
    "ind_dict['Education/research/development'] = 'Education and Research'\n",
    "ind_dict['Electricity, gas, water supply'] = 'Utilities'\n",
    "ind_dict['All other non-manufacturing branches'] = 'Services'\n",
    "ind_dict['Plastic and chemical products'] = 'Plastics and Chemicals'\n",
    "ind_dict['Metal products (non-automotive)'] = 'Metal Products'\n",
    "ind_dict['Industrial machinery'] = 'Industrial Machinery'\n",
    "ind_dict['Food and beverages'] = 'Food and Beverages'\n",
    "ind_dict['Basic metals'] = 'Basic Metals'\n",
    "ind_dict['Electrical/electronics'] = 'Electronics'\n",
    "ind_dict['All other manufacturing branches'] = 'Miscellaneous Manufacturing'\n",
    "ind_dict['Glass, ceramics, stone, mineral products (non-auto'] = 'Minerals'\n",
    "ind_dict['Wood and furniture'] = 'Wood and Furniture'\n",
    "ind_dict['Other vehicles'] = 'Shipbuilding and Aerospace'\n",
    "ind_dict['Paper'] = 'Paper and Printing'\n",
    "\n",
    "# 2. changing the indexes\n",
    "dat.rename(index=ind_dict, inplace=True)"
   ]
  },
  {
   "cell_type": "markdown",
   "id": "5901e32b-ab94-4ca6-8ec5-d6890e4fd526",
   "metadata": {},
   "source": [
    "Lastly, i would like to remove a list of variables. "
   ]
  },
  {
   "cell_type": "code",
   "execution_count": 9,
   "id": "3388a09e-ce2d-472d-ba64-a48229c63407",
   "metadata": {},
   "outputs": [],
   "source": [
    "dat.drop(index=['Unspecified', 'Metal, unspecified', 'All Industries', 'Services', 'Paper and Printing', 'Wood and Furniture', 'Shipbuilding and Aerospace'], level=2, inplace=True)"
   ]
  },
  {
   "cell_type": "markdown",
   "id": "b108c61b-ee8d-46c4-ba7a-8e7a31aa57ba",
   "metadata": {},
   "source": [
    "### Employment data\n",
    "\n",
    "I import an excel spreadsheet with employment data for each of the five countries. I set the columns to the right names and create one set."
   ]
  },
  {
   "cell_type": "code",
   "execution_count": 11,
   "id": "2282ef8b-2c11-43ea-b810-bfcc5b229674",
   "metadata": {},
   "outputs": [],
   "source": [
    "# i create a list of the countries that i want to include\n",
    "countries = ['DK', 'FI', 'FR', 'IT', 'SE']\n",
    "\n",
    "# i make an empty dataframe\n",
    "EMP = pd.DataFrame()\n",
    "\n",
    "# creating a dictionary of coulmn names\n",
    "columns_dict_emp = {}\n",
    "columns_dict_emp['year'] = 'Year'\n",
    "columns_dict_emp['geo_name'] = 'Country'\n",
    "columns_dict_emp['nace_r2_name'] = 'Industry'"
   ]
  },
  {
   "cell_type": "code",
   "execution_count": 12,
   "id": "b79584b5-604d-47ae-8a75-434d1d2c3a78",
   "metadata": {},
   "outputs": [],
   "source": [
    "# i loop over each excel sheet and extract the data i need.\n",
    "for i in countries:\n",
    "    i = pd.read_excel(i + '_national accounts.xlsx', sheet_name='EMP')\n",
    "    \n",
    "    i.rename(columns=columns_dict_emp, inplace=True)\n",
    "    \n",
    "    i.drop(['var', 'geo_code', 'nace_r2_code'], axis=1, inplace=True)\n",
    "    \n",
    "    EMP = EMP.append(i)"
   ]
  },
  {
   "cell_type": "markdown",
   "id": "b415a59b-4526-4990-ba06-8dcafa3fc4b1",
   "metadata": {},
   "source": [
    "I rename the variables in order to merge the data."
   ]
  },
  {
   "cell_type": "code",
   "execution_count": 13,
   "id": "7a6c5ee3-2156-48d5-a365-ccd0ba243f0f",
   "metadata": {},
   "outputs": [],
   "source": [
    "ind_dict_emp = {}\n",
    "ind_dict_emp['Agriculture, forestry and fishing'] = 'Agriculture'\n",
    "ind_dict_emp['Mining and quarrying'] = 'Mining'\n",
    "ind_dict_emp['Education'] = 'Education and Research'\n",
    "ind_dict_emp['Electricity, gas, steam and air conditioning supply'] = 'Utilities'\n",
    "ind_dict_emp['Manufacture of chemicals and chemical products'] = 'Plastics and Chemicals'\n",
    "ind_dict_emp['Manufacture of basic metals and fabricated metal products, except machinery and equipment'] = 'Metal Products'\n",
    "ind_dict_emp['Manufacture of machinery and equipment n.e.c.'] = 'Industrial Machinery'\n",
    "ind_dict_emp['Manufacture of food products; beverages and tobacco products'] = 'Food and Beverages'\n",
    "ind_dict_emp['Manufacture of basic metals and fabricated metal'] = 'Basic Metals'\n",
    "ind_dict_emp['Manufacture of computer, electronic and optical products'] = 'Electronics'\n",
    "ind_dict_emp['Manufacture of rubber and plastic products and other non-metallic mineral products'] = 'Minerals'\n",
    "ind_dict_emp['Manufacture of textiles, wearing apparel, leather and related products'] = 'Textiles'\n",
    "ind_dict_emp['Manufacture of motor vehicles, trailers, semi-trailers and of other transport equipment'] = 'Automotive'\n",
    "ind_dict_emp['Construction'] = 'Construction'\n",
    "\n",
    "# changing the indexes\n",
    "EMP.rename(index=ind_dict_emp, inplace=True)"
   ]
  },
  {
   "cell_type": "markdown",
   "id": "810cd88d-6abe-4776-9073-48af3953bd40",
   "metadata": {},
   "source": [
    "I need to make the employment data into a long dataset in order to merge it. "
   ]
  },
  {
   "cell_type": "code",
   "execution_count": 14,
   "id": "a3787a3f-b87d-4d1b-84a3-9e994a38df23",
   "metadata": {},
   "outputs": [],
   "source": [
    "year = [1995 + i for i in range(26)]\n",
    "column_dict_emp = {}\n",
    "\n",
    "for i in year: \n",
    "    column_dict_emp[str(i)]= f'empl{i}'\n",
    "    \n",
    "EMP.rename(columns=column_dict_emp, inplace=True)"
   ]
  },
  {
   "cell_type": "code",
   "execution_count": 15,
   "id": "0be9c187-f413-42ad-af30-7dd17f0f8a19",
   "metadata": {},
   "outputs": [],
   "source": [
    "emp_long = pd.wide_to_long(EMP, stubnames='empl', i=['Country', 'Industry'], j='Year')"
   ]
  },
  {
   "cell_type": "markdown",
   "id": "da4f215f-5696-48c0-a277-f873b514be03",
   "metadata": {},
   "source": [
    "## Merge\n",
    "\n",
    "Now i merge the data sets. This is not succesfull. For some reason, the function can only extract one industry."
   ]
  },
  {
   "cell_type": "code",
   "execution_count": 65,
   "id": "bd508ed6-85c0-46bc-91e4-a20ff3847d8a",
   "metadata": {},
   "outputs": [],
   "source": [
    "# i extract the five countries from my original data. \n",
    "\n",
    "DAT = pd.DataFrame()\n",
    "COUNTRIES = ['Denmark', 'Finland', 'France', 'Italy', 'Sweden']\n",
    "for i in COUNTRIES:\n",
    "    \n",
    "    x = dat.xs((str(i)), level=(\"Country\"), drop_level=False)\n",
    "    \n",
    "    DAT = DAT.append(x)"
   ]
  },
  {
   "cell_type": "code",
   "execution_count": 59,
   "id": "6775b377-8450-42a4-872d-0c3c97866e9a",
   "metadata": {},
   "outputs": [],
   "source": [
    "merged = DAT.merge(emp_long, left_index=True, right_on=['Year', 'Country', 'Industry'])"
   ]
  },
  {
   "cell_type": "markdown",
   "id": "4ff37dae-e8fc-43fd-81ab-aaad45fa4da8",
   "metadata": {},
   "source": []
  },
  {
   "cell_type": "code",
   "execution_count": 61,
   "id": "abc1df73-2ce1-4980-a07f-a15b76de332f",
   "metadata": {},
   "outputs": [
    {
     "data": {
      "text/html": [
       "<div>\n",
       "<style scoped>\n",
       "    .dataframe tbody tr th:only-of-type {\n",
       "        vertical-align: middle;\n",
       "    }\n",
       "\n",
       "    .dataframe tbody tr th {\n",
       "        vertical-align: top;\n",
       "    }\n",
       "\n",
       "    .dataframe thead th {\n",
       "        text-align: right;\n",
       "    }\n",
       "</style>\n",
       "<table border=\"1\" class=\"dataframe\">\n",
       "  <thead>\n",
       "    <tr style=\"text-align: right;\">\n",
       "      <th></th>\n",
       "      <th></th>\n",
       "      <th></th>\n",
       "      <th>Stock</th>\n",
       "      <th>empl</th>\n",
       "    </tr>\n",
       "    <tr>\n",
       "      <th>Country</th>\n",
       "      <th>Industry</th>\n",
       "      <th>Year</th>\n",
       "      <th></th>\n",
       "      <th></th>\n",
       "    </tr>\n",
       "  </thead>\n",
       "  <tbody>\n",
       "    <tr>\n",
       "      <th>Denmark</th>\n",
       "      <th>Construction</th>\n",
       "      <th>2000</th>\n",
       "      <td>0</td>\n",
       "      <td>180.0</td>\n",
       "    </tr>\n",
       "    <tr>\n",
       "      <th>Sweden</th>\n",
       "      <th>Construction</th>\n",
       "      <th>2004</th>\n",
       "      <td>46</td>\n",
       "      <td>232.0</td>\n",
       "    </tr>\n",
       "    <tr>\n",
       "      <th>France</th>\n",
       "      <th>Construction</th>\n",
       "      <th>2002</th>\n",
       "      <td>0</td>\n",
       "      <td>1562.0</td>\n",
       "    </tr>\n",
       "    <tr>\n",
       "      <th>Italy</th>\n",
       "      <th>Construction</th>\n",
       "      <th>2016</th>\n",
       "      <td>215</td>\n",
       "      <td>1550.2</td>\n",
       "    </tr>\n",
       "    <tr>\n",
       "      <th>Sweden</th>\n",
       "      <th>Construction</th>\n",
       "      <th>2009</th>\n",
       "      <td>13</td>\n",
       "      <td>291.0</td>\n",
       "    </tr>\n",
       "    <tr>\n",
       "      <th rowspan=\"2\" valign=\"top\">Finland</th>\n",
       "      <th rowspan=\"2\" valign=\"top\">Construction</th>\n",
       "      <th>2004</th>\n",
       "      <td>3</td>\n",
       "      <td>164.5</td>\n",
       "    </tr>\n",
       "    <tr>\n",
       "      <th>2003</th>\n",
       "      <td>3</td>\n",
       "      <td>160.0</td>\n",
       "    </tr>\n",
       "    <tr>\n",
       "      <th>France</th>\n",
       "      <th>Construction</th>\n",
       "      <th>2014</th>\n",
       "      <td>183</td>\n",
       "      <td>1816.0</td>\n",
       "    </tr>\n",
       "    <tr>\n",
       "      <th>Italy</th>\n",
       "      <th>Construction</th>\n",
       "      <th>2006</th>\n",
       "      <td>23</td>\n",
       "      <td>1885.7</td>\n",
       "    </tr>\n",
       "    <tr>\n",
       "      <th rowspan=\"2\" valign=\"top\">Finland</th>\n",
       "      <th rowspan=\"2\" valign=\"top\">Construction</th>\n",
       "      <th>1997</th>\n",
       "      <td>1</td>\n",
       "      <td>140.3</td>\n",
       "    </tr>\n",
       "    <tr>\n",
       "      <th>2011</th>\n",
       "      <td>21</td>\n",
       "      <td>193.1</td>\n",
       "    </tr>\n",
       "    <tr>\n",
       "      <th>France</th>\n",
       "      <th>Construction</th>\n",
       "      <th>2000</th>\n",
       "      <td>0</td>\n",
       "      <td>1485.0</td>\n",
       "    </tr>\n",
       "    <tr>\n",
       "      <th>Finland</th>\n",
       "      <th>Construction</th>\n",
       "      <th>2013</th>\n",
       "      <td>22</td>\n",
       "      <td>190.0</td>\n",
       "    </tr>\n",
       "    <tr>\n",
       "      <th>Denmark</th>\n",
       "      <th>Construction</th>\n",
       "      <th>2002</th>\n",
       "      <td>0</td>\n",
       "      <td>178.0</td>\n",
       "    </tr>\n",
       "    <tr>\n",
       "      <th>Italy</th>\n",
       "      <th>Construction</th>\n",
       "      <th>2003</th>\n",
       "      <td>9</td>\n",
       "      <td>1707.8</td>\n",
       "    </tr>\n",
       "    <tr>\n",
       "      <th rowspan=\"2\" valign=\"top\">France</th>\n",
       "      <th rowspan=\"2\" valign=\"top\">Construction</th>\n",
       "      <th>2012</th>\n",
       "      <td>123</td>\n",
       "      <td>1838.0</td>\n",
       "    </tr>\n",
       "    <tr>\n",
       "      <th>2004</th>\n",
       "      <td>0</td>\n",
       "      <td>1598.0</td>\n",
       "    </tr>\n",
       "    <tr>\n",
       "      <th>Italy</th>\n",
       "      <th>Construction</th>\n",
       "      <th>2002</th>\n",
       "      <td>3</td>\n",
       "      <td>1647.8</td>\n",
       "    </tr>\n",
       "    <tr>\n",
       "      <th rowspan=\"2\" valign=\"top\">Finland</th>\n",
       "      <th rowspan=\"2\" valign=\"top\">Construction</th>\n",
       "      <th>2000</th>\n",
       "      <td>3</td>\n",
       "      <td>158.7</td>\n",
       "    </tr>\n",
       "    <tr>\n",
       "      <th>2010</th>\n",
       "      <td>19</td>\n",
       "      <td>188.1</td>\n",
       "    </tr>\n",
       "  </tbody>\n",
       "</table>\n",
       "</div>"
      ],
      "text/plain": [
       "                           Stock    empl\n",
       "Country Industry     Year               \n",
       "Denmark Construction 2000      0   180.0\n",
       "Sweden  Construction 2004     46   232.0\n",
       "France  Construction 2002      0  1562.0\n",
       "Italy   Construction 2016    215  1550.2\n",
       "Sweden  Construction 2009     13   291.0\n",
       "Finland Construction 2004      3   164.5\n",
       "                     2003      3   160.0\n",
       "France  Construction 2014    183  1816.0\n",
       "Italy   Construction 2006     23  1885.7\n",
       "Finland Construction 1997      1   140.3\n",
       "                     2011     21   193.1\n",
       "France  Construction 2000      0  1485.0\n",
       "Finland Construction 2013     22   190.0\n",
       "Denmark Construction 2002      0   178.0\n",
       "Italy   Construction 2003      9  1707.8\n",
       "France  Construction 2012    123  1838.0\n",
       "                     2004      0  1598.0\n",
       "Italy   Construction 2002      3  1647.8\n",
       "Finland Construction 2000      3   158.7\n",
       "                     2010     19   188.1"
      ]
     },
     "execution_count": 61,
     "metadata": {},
     "output_type": "execute_result"
    }
   ],
   "source": [
    "merged.sample(20)"
   ]
  },
  {
   "cell_type": "markdown",
   "id": "a0c4d33f-f44b-448b-ae4b-36a3ef6b78d0",
   "metadata": {},
   "source": [
    "### Visualization\n",
    "\n",
    "The visualization is not really possible for two reasons: first, the merge did not work. Secondly, i can't get the plot to work with three layers of idexes."
   ]
  },
  {
   "cell_type": "code",
   "execution_count": 64,
   "id": "e051b762-9229-4941-80d2-98e83280852f",
   "metadata": {},
   "outputs": [
    {
     "data": {
      "text/plain": [
       "<AxesSubplot:xlabel='Industry,Year'>"
      ]
     },
     "execution_count": 64,
     "metadata": {},
     "output_type": "execute_result"
    },
    {
     "data": {
      "image/png": "[encoded data removed]",
      "text/plain": [
       "<Figure size 432x288 with 1 Axes>"
      ]
     },
     "metadata": {
      "needs_background": "light"
     },
     "output_type": "display_data"
    },
    {
     "data": {
      "image/png": "[encoded data removed]",
      "text/plain": [
       "<Figure size 432x288 with 1 Axes>"
      ]
     },
     "metadata": {
      "needs_background": "light"
     },
     "output_type": "display_data"
    }
   ],
   "source": [
    "fig, ax = plt.subplots()\n",
    "merged.xs('Denmark').plot(kind='bar')"
   ]
  },
  {
   "cell_type": "code",
   "execution_count": null,
   "id": "c585544a-1fe6-4170-a016-a22b45239e7f",
   "metadata": {},
   "outputs": [],
   "source": []
  },
  {
   "cell_type": "code",
   "execution_count": null,
   "id": "c9a15bb9-7cda-47eb-bbbf-412781639c77",
   "metadata": {},
   "outputs": [],
   "source": []
  },
  {
   "cell_type": "code",
   "execution_count": null,
   "id": "9c2856d9-df93-4b0c-b37f-80102e22ee41",
   "metadata": {},
   "outputs": [],
   "source": []
  },
  {
   "cell_type": "code",
   "execution_count": null,
   "id": "5906186c-5adf-4faa-b461-42e1a83b4dd0",
   "metadata": {},
   "outputs": [],
   "source": []
  }
 ],
 "metadata": {
  "kernelspec": {
   "display_name": "Python 3 (ipykernel)",
   "language": "python",
   "name": "python3"
  },
  "language_info": {
   "codemirror_mode": {
    "name": "ipython",
    "version": 3
   },
   "file_extension": ".py",
   "mimetype": "text/x-python",
   "name": "python",
   "nbconvert_exporter": "python",
   "pygments_lexer": "ipython3",
   "version": "3.9.7"
  },
  "toc-autonumbering": false,
  "toc-showtags": false
 },
 "nbformat": 4,
 "nbformat_minor": 5
}
