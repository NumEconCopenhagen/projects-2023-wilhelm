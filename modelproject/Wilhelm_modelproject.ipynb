{
 "cells": [
  {
   "cell_type": "markdown",
   "id": "3afaee3b-df3d-4867-a732-dc0a0378bafe",
   "metadata": {},
   "source": [
    "# Solow model with human capital"
   ]
  },
  {
   "cell_type": "markdown",
   "id": "b396be5d-0842-4413-b4f8-80405cede6a4",
   "metadata": {},
   "source": [
    "I simulate the Solow model with human capital"
   ]
  },
  {
   "cell_type": "code",
   "execution_count": 43,
   "id": "7bb3b8c4-f35b-4cbf-ae3d-5d4287883676",
   "metadata": {},
   "outputs": [
    {
     "name": "stdout",
     "output_type": "stream",
     "text": [
      "The autoreload extension is already loaded. To reload it, use:\n",
      "  %reload_ext autoreload\n"
     ]
    }
   ],
   "source": [
    "import numpy as np\n",
    "from scipy import optimize\n",
    "import ipywidgets as widgets\n",
    "import matplotlib.pyplot as plt\n",
    "import sympy as sm\n",
    "from sympy import *\n",
    "\n",
    "import ny_modelproject_wilhelm as ny\n",
    "\n",
    "plt.style.use('seaborn-whitegrid')\n",
    "\n",
    "\n",
    "%load_ext autoreload\n",
    "%autoreload 2"
   ]
  },
  {
   "cell_type": "markdown",
   "id": "e1153b6b-450a-4f6c-8499-2eda25949907",
   "metadata": {},
   "source": [
    "# Setup"
   ]
  },
  {
   "cell_type": "markdown",
   "id": "45904078-ecdb-4968-921c-35b40d6a6755",
   "metadata": {},
   "source": [
    "The Solow Model with human capital consists of the following fice equations.\n",
    "\n",
    "**Time:** Discrete and indexed by $t\\in\\{0,1,\\dots\\}$.\n",
    "\n",
    "**Demographics:** Population of size $L_t$ that grow with the rate $n$ in each period:\n",
    "\n",
    "$$L_{t+1} = (1+n)L_{t}$$\n",
    "\n",
    "Households supply labur $L_t$ exogenously and independant of wages.\n",
    "\n",
    "**Households**: Households decide how much to save in order to buy both capital and human capital:\n",
    "$$S_t = (s_K + s_H)Y_t$$\n",
    "Consumption is income, $Y_t$ minus savings, $S_t$:\n",
    "$$C_t = Y_t - S_t = (1 - s_K - s_H)Y_t$$\n",
    "\n",
    "\n",
    "**Production:** Firms produce with a cobb douglas function. They use capital, $K_t$; labour, $L_t$; technology, $A_t$ and human capital, $H_t$.\n",
    "\n",
    "$$Y_{t} = K_{t}^\\alpha H_{t}^\\phi (A_{t}L_{t})^{1-\\alpha-\\phi}$$\n",
    "\n",
    "Capital and human capital accumulates at the saving rats and depreciates at the depreciation rate, $\\delta$, which is exogenously given:\n",
    "$$K_{t+1} = s_{K}Y_{t}+(1-\\delta)K_{t}$$\n",
    "$$H_{t+1} = s_{H}Y_{t}+(1-\\delta)H_{t}$$\n",
    "\n",
    "**Technology:** Technology accumulates at the rate, $g$.\n",
    "$$A_{t+1} = (1+g)A_t$$"
   ]
  },
  {
   "cell_type": "markdown",
   "id": "7841bd8f-11d4-42df-ae72-ed1b22c7ca91",
   "metadata": {
    "tags": []
   },
   "source": [
    "# Analytical solution"
   ]
  },
  {
   "cell_type": "markdown",
   "id": "ce1f2bad-801c-4379-b878-28e16244ca92",
   "metadata": {},
   "source": [
    "I cannot write $\\tilde{k}_{t+1}$ in sympy, so i have to solve the model without. \n",
    "\n",
    "**The transistion equation**\n",
    "\n",
    "We can find the transistion equation for kapital and human capital:\n",
    "\n",
    "$$ \\tilde{k}_{t+1} = \\frac{1}{(1+n)(1+g)}(s_K \\tilde{k}_t^\\alpha \\tilde{h}_t^\\phi + (1-\\delta)\\tilde{k}_t$$\n",
    "$$ \\tilde{h}_{t+1} = \\frac{1}{(1+n)(1+g)}(s_H \\tilde{k}_t^\\alpha \\tilde{h}_t^\\phi + (1-\\delta)\\tilde{h}_t$$\n",
    "\n",
    "**The Solow equation**\n",
    "\n",
    "By substracting capital and human capital in period t, we get the solow equations:\n",
    "$$ \\tilde{k}_{t+1} - \\tilde{k}_{t} = \\frac{1}{(1+n)(1+g)}(s_K \\tilde{k}_t^\\alpha \\tilde{h}_t^\\phi - (n + g + \\delta + ng)\\tilde{k}_t$$\n",
    "$$ \\tilde{h}_{t+1} - \\tilde{h}_{t} = \\frac{1}{(1+n)(1+g)}(s_H \\tilde{k}_t^\\alpha \\tilde{h}_t^\\phi - (n + g + \\delta + ng)\\tilde{h}_t$$\n",
    "\n",
    "**Steady state**\n",
    "\n",
    "In steady state, the change in capital and human capital is zero: \n",
    "\n",
    "$$ 0 = \\frac{1}{(1+n)(1+g)}(s_K \\tilde{k}_t^\\alpha \\tilde{h}_t^\\phi - (n + g + \\delta + ng)\\tilde{k}_t$$\n",
    "$$ 0 = \\frac{1}{(1+n)(1+g)}(s_H \\tilde{k}_t^\\alpha \\tilde{h}_t^\\phi - (n + g + \\delta + ng)\\tilde{h}_t$$\n",
    "\n",
    "Here we have two equations with two unknowns. This is easy to solve with math and yieds: \n",
    "\n",
    "$$ \\tilde{k}^* = \\frac{s_K^{1-\\phi}s_H^\\phi}{n+g+\\delta+ng}^\\frac{1}{1-\\alpha-\\phi}$$\n",
    "$$ \\tilde{h}^* = \\frac{s_K^{\\alpha}s_H^{1-\\alpha}}{n+g+\\delta+ng}^\\frac{1}{1-\\alpha-\\phi}$$\n",
    "\n",
    "Income is then: \n",
    "\n",
    "$$\\tilde{y}^* = (\\tilde{k}^*)^\\alpha (\\tilde{h}^*)^\\alpha$$\n",
    "$$= \\frac{s_K}{n+g+\\delta+ng}^\\frac{\\alpha}{1-\\alpha-\\phi} \\frac{s_H}{n+g+\\delta+ng}^\\frac{\\phi}{1-\\alpha-\\phi}$$"
   ]
  },
  {
   "cell_type": "markdown",
   "id": "b7bd3d63-38f2-49d0-a696-ad09d8857b59",
   "metadata": {},
   "source": [
    "# Nummerical solution"
   ]
  },
  {
   "cell_type": "code",
   "execution_count": 44,
   "id": "ca7686ad-5b1b-4c67-864d-4cfbeb1d32ec",
   "metadata": {},
   "outputs": [],
   "source": [
    "#Plausible values for the parameters\n",
    "alpha = 1/3\n",
    "phi = 1/3\n",
    "n = 0.02\n",
    "g = 0.02\n",
    "s_k = 0.4\n",
    "s_h = 0.4\n",
    "delta = 0.02"
   ]
  },
  {
   "cell_type": "code",
   "execution_count": 45,
   "id": "9fb039d2-5363-4e5f-a40f-4884d47c6d21",
   "metadata": {},
   "outputs": [],
   "source": [
    "#We define a function containing our h- and k-functions as well as vectors in place of the endogenous variables\n",
    "object = lambda x: [ny.k_solow_equation(x[1], x[0], alpha, phi, n, g, s_k, s_h, delta),\n",
    "                    ny.h_solow_equation(x[1], x[0], alpha, phi, n, g, s_k, s_h, delta)]"
   ]
  },
  {
   "cell_type": "code",
   "execution_count": 50,
   "id": "2a183a47-bc5f-43cf-9e7a-450e2fb95b50",
   "metadata": {},
   "outputs": [],
   "source": [
    "#We solve the vector functions\n",
    "sol = optimize.root(object, [100, 100], method='broyden1')"
   ]
  },
  {
   "cell_type": "code",
   "execution_count": 47,
   "id": "a8fb4f92-080b-41f2-a45c-bde20903ed96",
   "metadata": {},
   "outputs": [
    {
     "data": {
      "text/plain": [
       "array([290.44850176, 290.44850176])"
      ]
     },
     "execution_count": 47,
     "metadata": {},
     "output_type": "execute_result"
    }
   ],
   "source": [
    "sol.x"
   ]
  },
  {
   "cell_type": "markdown",
   "id": "0f8de117-ee7b-4812-9bfe-0099068e760c",
   "metadata": {},
   "source": [
    "# Phase diagram"
   ]
  },
  {
   "cell_type": "code",
   "execution_count": 48,
   "id": "998c9c71-6e68-425a-98fe-2327fc7007ff",
   "metadata": {},
   "outputs": [],
   "source": [
    "k_vec, h_vec_k, h_vec_h=ny.solve(alpha, phi, n, g, s_k, s_h, delta)"
   ]
  },
  {
   "cell_type": "code",
   "execution_count": 49,
   "id": "d130318f-2cdf-4bf2-b45a-796ea707c140",
   "metadata": {},
   "outputs": [
    {
     "data": {
      "image/png": "[encoded data removed]",
      "text/plain": [
       "<Figure size 936x360 with 1 Axes>"
      ]
     },
     "metadata": {},
     "output_type": "display_data"
    }
   ],
   "source": [
    "fig = plt.figure(figsize=(13, 5))\n",
    "ax = fig.add_subplot(1, 2, 1)\n",
    "ax.plot(h_vec_k, k_vec, label=r'$\\Delta \\tilde{k}=0$', color='red')\n",
    "ax.plot(k_vec, h_vec_k, label=r'$\\Delta \\tilde{h}=0$', color='blue')\n",
    "ax.set_ylabel(r'$\\tilde{h}$')\n",
    "ax.set_xlabel(r'$\\tilde{k}$')\n",
    "ax.legend()  \n",
    "\n",
    "# mark steady state\n",
    "plt.scatter(sol.x[1],sol.x[0], color='green', s=80,zorder=2.5)\n",
    "\n",
    "# axes setup\n",
    "ax.text(0.07, 0.07, r'$\\tilde{k}^*, \\tilde{h}^*$', fontsize=12)\n",
    "ax.set(xlim=(0, 500), ylim=(0, 500))\n",
    "ax.set_title('Phase diagram for the Solow model with human capital');"
   ]
  }
 ],
 "metadata": {
  "kernelspec": {
   "display_name": "Python 3 (ipykernel)",
   "language": "python",
   "name": "python3"
  },
  "language_info": {
   "codemirror_mode": {
    "name": "ipython",
    "version": 3
   },
   "file_extension": ".py",
   "mimetype": "text/x-python",
   "name": "python",
   "nbconvert_exporter": "python",
   "pygments_lexer": "ipython3",
   "version": "3.9.7"
  }
 },
 "nbformat": 4,
 "nbformat_minor": 5
}
