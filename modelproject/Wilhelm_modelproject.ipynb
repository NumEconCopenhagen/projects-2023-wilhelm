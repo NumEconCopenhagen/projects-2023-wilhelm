{
 "cells": [
  {
   "cell_type": "markdown",
   "id": "5c4b920e-a45b-4a27-8779-9285655bea8d",
   "metadata": {
    "tags": []
   },
   "source": [
    "# Modelproject: The Solow Model with techonlogical growth extented with human capital\n",
    "\n",
    "This project presents the solow model with technological growth and then extends it with human captial."
   ]
  },
  {
   "cell_type": "code",
   "execution_count": 1,
   "id": "3226c643-a4a9-4910-b7e8-784e46f76279",
   "metadata": {
    "tags": []
   },
   "outputs": [],
   "source": [
    "import numpy as np\n",
    "from scipy import optimize\n",
    "import ipywidgets as widgets\n",
    "import matplotlib.pyplot as plt\n",
    "import sympy as sm\n",
    "from sympy import *\n",
    "\n",
    "import ny_modelproject_wilhelm as ny\n",
    "\n",
    "plt.style.use('seaborn-whitegrid')\n",
    "\n",
    "\n",
    "%load_ext autoreload\n",
    "%autoreload 2"
   ]
  },
  {
   "cell_type": "markdown",
   "id": "56f297f7-944c-444a-ad2a-0ae4274df5f7",
   "metadata": {
    "tags": []
   },
   "source": [
    "# The Solow Model with technological growth"
   ]
  },
  {
   "cell_type": "markdown",
   "id": "238f54a3-26f2-4564-9ebc-bdfd4d7fa4c5",
   "metadata": {
    "tags": []
   },
   "source": [
    "## Setup "
   ]
  },
  {
   "cell_type": "markdown",
   "id": "66a4e751-9f4e-4075-a29b-49b252b3be72",
   "metadata": {},
   "source": [
    "The Solow Model consists of the following four equations.\n",
    "\n",
    "**Time:** Discrete and indexed by $t\\in\\{0,1,\\dots\\}$.\n",
    "\n",
    "**Demographics:** Population of size $L_t$ that grow with the rate $n$ in each period:\n",
    "\n",
    "$$L_{t+1} = (1+n)L_{t}$$\n",
    "\n",
    "Households supply labur $L_t$ exogenously and independant of wages.\n",
    "\n",
    "**Households**: Households decide how much to save in order to buy both capital:\n",
    "$$S_t = s Y_t$$\n",
    "Consumption is income, $Y_t$ minus savings, $S_t$:\n",
    "$$C_t = Y_t - S_t = (1 - s)Y_t$$\n",
    "\n",
    "\n",
    "**Production:** Firms produce with a cobb douglas function. They use capital, $K_t$; labour, $L_t$ and technology, $A_t$\n",
    "\n",
    "$$Y_{t} = K_{t}^\\alpha(A_{t}L_{t})^{1-\\alpha}$$\n",
    "\n",
    "Capital accumulates at the saving rate and depreciates at the depreciation rate, $\\delta$, which is exogenously given:\n",
    "$$K_{t+1} = sY_{t}+(1-\\delta)K_{t}$$\n",
    "\n",
    "**Technology:** Technology accumulates at the rate, $g$.\n",
    "$$A_{t+1} = (1+g)A_t$$"
   ]
  },
  {
   "cell_type": "markdown",
   "id": "67f89641-d906-452f-a6cd-7a10cc60facf",
   "metadata": {
    "tags": []
   },
   "source": [
    "## Analytical solution "
   ]
  },
  {
   "cell_type": "markdown",
   "id": "1d6e270c-fa67-418e-ae52-4794c9247c38",
   "metadata": {},
   "source": [
    "I cannot write $\\tilde{k}_{t+1}$ in sympy, so I have to solve the model without.\n",
    "\n",
    "**The transistion equation**\n",
    "\n",
    "I find the transistion equation for kapital:\n",
    "\n",
    "$$ \\tilde{k}_{t+1} = \\frac{1}{(1+n)(1+g)}(s \\tilde{k}_t^\\alpha+ (1-\\delta)\\tilde{k}_t)$$\n",
    "\n",
    "**The Solow equation**\n",
    "\n",
    "By substracting capital and human capital in period t, we get the solow equations:\n",
    "$$ \\tilde{k}_{t+1} - \\tilde{k}_{t} = \\frac{1}{(1+n)(1+g)}(s\\tilde{k}_t^\\alpha - (n + g + \\delta + ng)\\tilde{k}_t)$$\n",
    "\n",
    "**Steady state**\n",
    "\n",
    "In steady state, the change in capital and human capital is zero: \n",
    "\n",
    "$$ 0 = \\frac{1}{(1+n)(1+g)}(s\\tilde{k}_t^\\alpha - (n + g + \\delta + ng)\\tilde{k}_t)$$\n",
    "\n",
    "Here we have two equations with two unknowns. This is easy to solve with math and yieds: \n",
    "\n",
    "$$ \\tilde{k}^* = \\frac{s}{n+g+\\delta+ng}^\\frac{1}{1-\\alpha}$$\n",
    "\n",
    "Income is then: \n",
    "\n",
    "$$\\tilde{y}^* = (\\tilde{k}^*)^\\alpha = \\frac{s}{n+g+\\delta+ng}^\\frac{\\alpha}{1-\\alpha}$$"
   ]
  },
  {
   "cell_type": "markdown",
   "id": "bf00870f-e0f3-4594-bed0-f92628c7449b",
   "metadata": {
    "tags": []
   },
   "source": [
    "## Numerical solution and analysis "
   ]
  },
  {
   "cell_type": "markdown",
   "id": "42ec1fa3-a124-4564-b744-78567a457c37",
   "metadata": {
    "tags": []
   },
   "source": [
    "### Numerical solution"
   ]
  },
  {
   "cell_type": "code",
   "execution_count": 2,
   "id": "7d81460e-1414-40cf-ade9-92a1f5953027",
   "metadata": {},
   "outputs": [],
   "source": [
    "#Plausible values for the parameters\n",
    "alpha = 1/3\n",
    "n = 0.02\n",
    "g = 0.02\n",
    "s = 0.4\n",
    "delta = 0.02"
   ]
  },
  {
   "cell_type": "code",
   "execution_count": 3,
   "id": "0e0a17c4-ba91-42fa-9766-ff6c397c9adc",
   "metadata": {},
   "outputs": [],
   "source": [
    "# define a function of k\n",
    "object = lambda k: ny.k_solow_equation(k, alpha, n, g, s, delta)"
   ]
  },
  {
   "cell_type": "code",
   "execution_count": 4,
   "id": "c8722c48-25f7-4a34-a8b6-3bd52804701f",
   "metadata": {},
   "outputs": [],
   "source": [
    "# solve for k\n",
    "sol = optimize.bisect(object, 1, 100, full_output=False)"
   ]
  },
  {
   "cell_type": "code",
   "execution_count": 5,
   "id": "799728a9-16b4-40e2-9d56-11d6ec4e042e",
   "metadata": {},
   "outputs": [
    {
     "data": {
      "text/plain": [
       "17.042550087913966"
      ]
     },
     "execution_count": 5,
     "metadata": {},
     "output_type": "execute_result"
    }
   ],
   "source": [
    "sol"
   ]
  },
  {
   "cell_type": "markdown",
   "id": "24027d3a-ed74-4a2e-bff4-7a4323e416c4",
   "metadata": {
    "tags": []
   },
   "source": [
    "### Phase diagram"
   ]
  },
  {
   "cell_type": "code",
   "execution_count": 6,
   "id": "29402cb5-4ea2-4c12-8ef6-ac11c2e14727",
   "metadata": {},
   "outputs": [],
   "source": [
    "def transistion_diagram(k, alpha, n, g, s, delta, t):\n",
    "    ''' the transistion diagram\n",
    "    \n",
    "    Args: \n",
    "        k (float): capital\n",
    "        alpha (float): capital share\n",
    "        n (float): population growth rate\n",
    "        g (float): rate of technological development\n",
    "        s (float): savings rate\n",
    "        delta (float): depreciation rate\n",
    "        t (int): periods\n",
    "    \n",
    "    Returns: \n",
    "    \n",
    "        diagram whith growth in captial that illustrates the growthpath towards steady state\n",
    "        \n",
    "    '''\n",
    "    # lists for the two lines that make up the diagram\n",
    "    fortyfive = [0]\n",
    "    k_values = [k]\n",
    "\n",
    "    # the 45 line values\n",
    "    for a in range(1, t):\n",
    "        x = (n+g+n*g+delta)*a\n",
    "        fortyfive.append(x)\n",
    "        \n",
    "    # capital growth\n",
    "    for a in range(1, t):\n",
    "        k_t = s*a**alpha\n",
    "        k_values.append(k_t)\n",
    "        \n",
    "    # make the plot\n",
    "    plt.figure()\n",
    "    plt.plot(fortyfive[:t], label=r'$(n+g+ng+\\delta)k_t$')\n",
    "    plt.plot(k_values[:t], label=r'$s\\tilde{k}_t^{\\alpha}$')\n",
    "    plt.xlim(0, t)\n",
    "    plt.ylim(0, fortyfive[-1])\n",
    "    plt.xlabel('$k_t$')\n",
    "    plt.ylabel('$k_{t+1}$')\n",
    "    plt.legend()\n",
    "    plt.title('Transition diagram')"
   ]
  },
  {
   "cell_type": "code",
   "execution_count": 7,
   "id": "f9584415-d305-4fe5-8578-bd4ee3c4936f",
   "metadata": {},
   "outputs": [
    {
     "data": {
      "application/vnd.jupyter.widget-view+json": {
       "model_id": "0e2b3431eb0c47b89a6cf5f40d9fc035",
       "version_major": 2,
       "version_minor": 0
      },
      "text/plain": [
       "interactive(children=(FloatSlider(value=0.33, description='$\\\\alpha$', max=0.99, step=0.05), FloatSlider(value…"
      ]
     },
     "metadata": {},
     "output_type": "display_data"
    }
   ],
   "source": [
    "# interactive plot\n",
    "widgets.interact(transistion_diagram, \n",
    "                k = widgets.fixed(0), \n",
    "                alpha = widgets.FloatSlider(description = r'$\\alpha$', min=0, max=0.99, step=0.05, value=0.33),\n",
    "                n = widgets.FloatSlider(description ='$n$', min=0.01, max=0.2, step=0.005, value=0.02),\n",
    "                g = widgets.FloatSlider(description = '$g$', min=0.01, max=0.1, step=0.005, value= 0.02),\n",
    "                s = widgets.FloatSlider(description = '$s$', min=0.01, max=0.99, step=0.01, value=0.4),\n",
    "                delta = widgets.FloatSlider(description = r'$\\delta$', min=0, max=0.2, step=0.005, value=0.02),\n",
    "                t = widgets.IntSlider(description='t', min = 1, max = 1000, step = 10, value = 100))\n",
    "plt.show()"
   ]
  },
  {
   "cell_type": "markdown",
   "id": "2007461b-fa89-4c82-a62a-b6b0685f4dc2",
   "metadata": {
    "tags": []
   },
   "source": [
    "# Extension with human capital "
   ]
  },
  {
   "cell_type": "markdown",
   "id": "57bc417a-4288-4f3e-ad42-ad67a167e900",
   "metadata": {
    "tags": []
   },
   "source": [
    "## Setup"
   ]
  },
  {
   "cell_type": "markdown",
   "id": "f641588f-f15c-4f85-8387-89a8c36ee6d7",
   "metadata": {},
   "source": [
    "The Solow Model with human capital makes the following changes:\n",
    "\n",
    "**Households**: Households decide how much to save in order to buy both capital and human capital:\n",
    "$$S_t = (s_K + s_H)Y_t$$\n",
    "Consumption is income, $Y_t$ minus savings, $S_t$:\n",
    "$$C_t = Y_t - S_t = (1 - s_K - s_H)Y_t$$\n",
    "\n",
    "**Production:** Firms produce with a cobb douglas function. They use capital, $K_t$; labour, $L_t$; technology, $A_t$ and human capital, $H_t$.\n",
    "\n",
    "$$Y_{t} = K_{t}^\\alpha H_{t}^\\phi (A_{t}L_{t})^{1-\\alpha-\\phi}$$\n",
    "\n",
    "Capital and human capital accumulates at the saving rats and depreciates at the depreciation rate, $\\delta$, which is exogenously given:\n",
    "$$K_{t+1} = s_{K}Y_{t}+(1-\\delta)K_{t}$$\n",
    "$$H_{t+1} = s_{H}Y_{t}+(1-\\delta)H_{t}$$"
   ]
  },
  {
   "cell_type": "markdown",
   "id": "cc1d98ca-25e7-4508-9210-ab3f81e6e306",
   "metadata": {
    "tags": []
   },
   "source": [
    "## Analytical solution"
   ]
  },
  {
   "cell_type": "markdown",
   "id": "e74d0005-ea9e-4e19-ae0f-9ce560662a39",
   "metadata": {},
   "source": [
    "**The transistion equation**\n",
    "\n",
    "I can find the transistion equation for kapital and human capital:\n",
    "\n",
    "$$ \\tilde{k}_{t+1} = \\frac{1}{(1+n)(1+g)}(s_K \\tilde{k}_t^\\alpha \\tilde{h}_t^\\phi + (1-\\delta)\\tilde{k}_t$$\n",
    "$$ \\tilde{h}_{t+1} = \\frac{1}{(1+n)(1+g)}(s_H \\tilde{k}_t^\\alpha \\tilde{h}_t^\\phi + (1-\\delta)\\tilde{h}_t$$\n",
    "\n",
    "**The Solow equation**\n",
    "\n",
    "By substracting capital and human capital in period t, I get the solow equations:\n",
    "$$ \\tilde{k}_{t+1} - \\tilde{k}_{t} = \\frac{1}{(1+n)(1+g)}(s_K \\tilde{k}_t^\\alpha \\tilde{h}_t^\\phi - (n + g + \\delta + ng)\\tilde{k}_t$$\n",
    "$$ \\tilde{h}_{t+1} - \\tilde{h}_{t} = \\frac{1}{(1+n)(1+g)}(s_H \\tilde{k}_t^\\alpha \\tilde{h}_t^\\phi - (n + g + \\delta + ng)\\tilde{h}_t$$\n",
    "\n",
    "**Steady state**\n",
    "\n",
    "In steady state, the change in capital and human capital is zero: \n",
    "\n",
    "$$ 0 = \\frac{1}{(1+n)(1+g)}(s_K \\tilde{k}_t^\\alpha \\tilde{h}_t^\\phi - (n + g + \\delta + ng)\\tilde{k}_t$$\n",
    "$$ 0 = \\frac{1}{(1+n)(1+g)}(s_H \\tilde{k}_t^\\alpha \\tilde{h}_t^\\phi - (n + g + \\delta + ng)\\tilde{h}_t$$\n",
    "\n",
    "Here I have two equations with two unknowns. This is easy to solve with math and yieds: \n",
    "\n",
    "$$ \\tilde{k}^* = \\frac{s_K^{1-\\phi}s_H^\\phi}{n+g+\\delta+ng}^\\frac{1}{1-\\alpha-\\phi}$$\n",
    "$$ \\tilde{h}^* = \\frac{s_K^{\\alpha}s_H^{1-\\alpha}}{n+g+\\delta+ng}^\\frac{1}{1-\\alpha-\\phi}$$\n",
    "\n",
    "Income is then: \n",
    "\n",
    "$$\\tilde{y}^* = (\\tilde{k}^*)^\\alpha (\\tilde{h}^*)^\\phi$$\n",
    "$$= \\frac{s_K}{n+g+\\delta+ng}^\\frac{\\alpha}{1-\\alpha-\\phi} \\frac{s_H}{n+g+\\delta+ng}^\\frac{\\phi}{1-\\alpha-\\phi}$$"
   ]
  },
  {
   "cell_type": "markdown",
   "id": "0bbf0858-3085-4965-8a56-ab8239a62b84",
   "metadata": {
    "tags": []
   },
   "source": [
    "## Nummerical solution and analysis"
   ]
  },
  {
   "cell_type": "markdown",
   "id": "44fff9c1-a243-4f82-a862-b36e0f1bb6a7",
   "metadata": {
    "tags": []
   },
   "source": [
    "### Solution "
   ]
  },
  {
   "cell_type": "code",
   "execution_count": 8,
   "id": "19112504-2a97-40fb-aa25-5af2a787de56",
   "metadata": {},
   "outputs": [],
   "source": [
    "# parameters for human capital and specifying savings rate for capital\n",
    "phi = 1/3\n",
    "s_k = 0.2\n",
    "s_h = 0.2"
   ]
  },
  {
   "cell_type": "code",
   "execution_count": 9,
   "id": "75ab6bff-70d2-4c42-a339-925d264aba48",
   "metadata": {},
   "outputs": [],
   "source": [
    "# define a function containing our h- and k-functions as well as vectors in place of the endogenous variables\n",
    "object = lambda x: [ny.k_solow_equation_human(x[1], x[0], alpha, phi, n, g, s_k, s_h, delta),\n",
    "                    ny.h_solow_equation_human(x[1], x[0], alpha, phi, n, g, s_k, s_h, delta)]"
   ]
  },
  {
   "cell_type": "code",
   "execution_count": 10,
   "id": "c1d77929-16da-4e1f-9a15-c7c99f11805c",
   "metadata": {},
   "outputs": [],
   "source": [
    "#We solve the vector functions\n",
    "sol = optimize.root(object, [100, 100], method='broyden1')"
   ]
  },
  {
   "cell_type": "code",
   "execution_count": 11,
   "id": "c514a0d2-dcbd-473d-bdf9-198b2c7d18a3",
   "metadata": {},
   "outputs": [
    {
     "data": {
      "text/plain": [
       "array([36.3060819, 36.3060819])"
      ]
     },
     "execution_count": 11,
     "metadata": {},
     "output_type": "execute_result"
    }
   ],
   "source": [
    "# the steady state values for technology adjusted capital and human capital per capita\n",
    "sol.x"
   ]
  },
  {
   "cell_type": "markdown",
   "id": "83a1b0ad-dd2a-4a45-afd1-27469c518f62",
   "metadata": {
    "tags": []
   },
   "source": [
    "### Phase diagram "
   ]
  },
  {
   "cell_type": "code",
   "execution_count": 12,
   "id": "ac827a45-6eb9-45e1-83e4-c456056e6541",
   "metadata": {},
   "outputs": [],
   "source": [
    "k_vec, h_vec_k, h_vec_h=ny.solve_human(alpha, phi, n, g, s_k, s_h, delta)"
   ]
  },
  {
   "cell_type": "code",
   "execution_count": 13,
   "id": "eb84d5cd-21a9-4ecf-b3e4-d41e73d774dd",
   "metadata": {},
   "outputs": [
    {
     "data": {
      "image/png": "[encoded data removed]",
      "text/plain": [
       "<Figure size 936x360 with 1 Axes>"
      ]
     },
     "metadata": {},
     "output_type": "display_data"
    }
   ],
   "source": [
    "fig = plt.figure(figsize=(13, 5))\n",
    "ax = fig.add_subplot(1, 2, 1)\n",
    "ax.plot(h_vec_k, k_vec, label=r'$\\Delta \\tilde{k}=0$', color='red')\n",
    "ax.plot(k_vec, h_vec_k, label=r'$\\Delta \\tilde{h}=0$', color='blue')\n",
    "ax.set_ylabel(r'$\\tilde{h}$')\n",
    "ax.set_xlabel(r'$\\tilde{k}$')\n",
    "ax.legend()  \n",
    "\n",
    "# mark steady state\n",
    "plt.scatter(sol.x[1],sol.x[0], color='green', s=80,zorder=2.5)\n",
    "\n",
    "# axes setup\n",
    "ax.text(0.07, 0.07, r'$\\tilde{k}^*, \\tilde{h}^*$', fontsize=12)\n",
    "ax.set(xlim=(0, 500), ylim=(0, 500))\n",
    "ax.set_title('Phase diagram for the Solow model with human capital');"
   ]
  },
  {
   "cell_type": "markdown",
   "id": "9cb9d724-4d42-4552-af70-ae425e46a427",
   "metadata": {
    "tags": []
   },
   "source": [
    "# Conclusion"
   ]
  },
  {
   "cell_type": "markdown",
   "id": "21fd692b-08e0-49b8-8ba9-ccbf63e274fe",
   "metadata": {},
   "source": [
    "I have modelled the solow model with and without human capital. Both models finds a staeady state, which is visualized through the transistion diagrammes. The steady state values are quite a bit higher for the model with human capital than the one without."
   ]
  }
 ],
 "metadata": {
  "kernelspec": {
   "display_name": "Python 3 (ipykernel)",
   "language": "python",
   "name": "python3"
  },
  "language_info": {
   "codemirror_mode": {
    "name": "ipython",
    "version": 3
   },
   "file_extension": ".py",
   "mimetype": "text/x-python",
   "name": "python",
   "nbconvert_exporter": "python",
   "pygments_lexer": "ipython3",
   "version": "3.9.7"
  },
  "toc-autonumbering": false
 },
 "nbformat": 4,
 "nbformat_minor": 5
}
