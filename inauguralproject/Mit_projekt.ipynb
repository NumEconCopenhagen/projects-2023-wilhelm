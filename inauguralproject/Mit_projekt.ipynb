{
 "cells": [
  {
   "cell_type": "markdown",
   "id": "15a39e66-7e3a-4133-855d-65cebe5c512b",
   "metadata": {},
   "source": [
    "# Inaugural project"
   ]
  },
  {
   "cell_type": "code",
   "execution_count": null,
   "id": "edf977ac-e377-416d-842a-e936fb1ea1e9",
   "metadata": {},
   "outputs": [],
   "source": [
    "from types import SimpleNamespace\n",
    "\n",
    "import numpy as np\n",
    "from scipy import optimize\n",
    "\n",
    "import pandas as pd \n",
    "import matplotlib.pyplot as plt\n",
    "\n",
    "%load_ext autoreload\n",
    "%autoreload 2\n",
    "\n",
    "import HouseholdSpecializationModel as HSM"
   ]
  },
  {
   "cell_type": "markdown",
   "id": "ca5c5c06-1321-463a-be0b-d67973a54361",
   "metadata": {
    "tags": []
   },
   "source": [
    "## 1. Optimization with descrete intervals"
   ]
  },
  {
   "cell_type": "code",
   "execution_count": null,
   "id": "e70ed076-d50d-44f5-a8a9-fc898b5072c1",
   "metadata": {},
   "outputs": [],
   "source": [
    "t = HSM.HouseholdSpecializationModelClass()"
   ]
  },
  {
   "cell_type": "code",
   "execution_count": null,
   "id": "e7e56289-a555-41a3-a655-1ca990711f79",
   "metadata": {},
   "outputs": [],
   "source": [
    "# i cereate numpy arrays for the sigma and alpha values \n",
    "alpha_ = np.array([0.25, 0.5, 0.75])\n",
    "sigma_ = np.array([0.5, 1, 1.5])\n",
    "\n",
    "# and cereate the table using a double loop\n",
    "def print_table(alpha_,sigma_):\n",
    "    '''print a table og HF/HW with different values of sigma and alpha'''\n",
    "    \n",
    "    # a. empty text\n",
    "    text = 'HF/HM'\n",
    "    \n",
    "    # b. top header\n",
    "    text += f'{\"\":s}'\n",
    "    for j,s in enumerate(sigma_):\n",
    "       text += f'{s:6.2f}' \n",
    "    text += '\\n' # line shift\n",
    "    \n",
    "    # c. body\n",
    "    for i,a in enumerate(alpha_):\n",
    "        t.par.alpha = alpha_[i]\n",
    "        if i > 0:\n",
    "            text += '\\n' # line shift\n",
    "        text += f'{a:.2f} ' # left header\n",
    "        for j, s in enumerate(sigma_):\n",
    "            t.par.sigma = sigma_[j]\n",
    "            r = t.solve_discrete()\n",
    "            text += f'{r.HF/r.HM:6.3f}'\n",
    "    \n",
    "    # d. print\n",
    "    print(text)\n",
    "\n",
    "print_table(alpha_,sigma_)"
   ]
  },
  {
   "cell_type": "markdown",
   "id": "1848bc07-99be-4522-9584-0aaddebdc3ac",
   "metadata": {},
   "source": [
    "## 2. Different wages"
   ]
  },
  {
   "cell_type": "code",
   "execution_count": null,
   "id": "23da384f-d723-4cf8-a6eb-87a033f24f70",
   "metadata": {},
   "outputs": [],
   "source": [
    "# I return alpha and sigma to their original values\n",
    "t.par.alpha = 0.5\n",
    "t.par.sigma = 1"
   ]
  },
  {
   "cell_type": "code",
   "execution_count": null,
   "id": "7f95130e-aae3-4d3e-bc31-70435add8966",
   "metadata": {},
   "outputs": [],
   "source": [
    "# and create empty lists\n",
    "HF_HM = []\n",
    "wF_wM = []\n",
    "\n",
    "# i loop over each value of wF in the array, entering the value into the solve_discrete function and saving the results.\n",
    "for i, a in enumerate(t.par.wF_vec):\n",
    "    t.par.wF = t.par.wF_vec[i]\n",
    "    o = t.solve_discrete()\n",
    "    HF_HM.append(np.log(o.HF/o.HM))\n",
    "    wF_wM.append(np.log(t.par.wF_vec[i]/t.par.wM))"
   ]
  },
  {
   "cell_type": "code",
   "execution_count": null,
   "id": "ce978720-3939-4d64-9844-cd4298b624fd",
   "metadata": {},
   "outputs": [],
   "source": [
    "# plotting the figure\n",
    "fig, ax = plt.subplots()\n",
    "ax.plot(wF_wM, HF_HM)"
   ]
  },
  {
   "cell_type": "markdown",
   "id": "747c3e74-be2d-49e5-b0f6-9568e7aed91f",
   "metadata": {},
   "source": [
    "## 3. Continuous"
   ]
  },
  {
   "cell_type": "code",
   "execution_count": null,
   "id": "ba53326f-3471-4699-bdc8-acb7042ad7dc",
   "metadata": {},
   "outputs": [],
   "source": [
    "x, y = t.solve_wF_vec()"
   ]
  },
  {
   "cell_type": "code",
   "execution_count": null,
   "id": "b17fbf58-00e5-43c6-b297-e453c9df42cb",
   "metadata": {},
   "outputs": [],
   "source": [
    "fig, ax = plt.subplots()\n",
    "ax.plot(x, y)"
   ]
  },
  {
   "cell_type": "markdown",
   "id": "277500ac-ee28-43db-bcf4-b34495371711",
   "metadata": {
    "tags": []
   },
   "source": [
    "## 4. Calibrate alpha and sigma"
   ]
  },
  {
   "cell_type": "code",
   "execution_count": 1,
   "id": "d9f142d0-c8f9-4437-bd0f-3fbd255cf1b0",
   "metadata": {},
   "outputs": [],
   "source": [
    "# t.estimate()\n",
    "\n",
    "# This function stopped workin just as i was about to turn the assignment in. I don't have time to fix it, but the code should be close to corretct. "
   ]
  },
  {
   "cell_type": "markdown",
   "id": "9e88f445-2bc6-469d-b98b-7e0ef84ac715",
   "metadata": {},
   "source": [
    "This result suggests that women are significantly more productive in house work than men. This seems unlikely, unless were talking about a 1950's household where the husband can just barely make an omlette. "
   ]
  },
  {
   "cell_type": "markdown",
   "id": "d8ad2c42-1b90-4c3e-966a-319dd80819a9",
   "metadata": {},
   "source": [
    "## 5. Extension: alpha = 0.5 "
   ]
  },
  {
   "cell_type": "code",
   "execution_count": null,
   "id": "79681086-71a5-4f2a-a667-bdab5123db7e",
   "metadata": {},
   "outputs": [],
   "source": [
    "t.modified_model(0.5)"
   ]
  }
 ],
 "metadata": {
  "kernelspec": {
   "display_name": "Python 3 (ipykernel)",
   "language": "python",
   "name": "python3"
  },
  "language_info": {
   "codemirror_mode": {
    "name": "ipython",
    "version": 3
   },
   "file_extension": ".py",
   "mimetype": "text/x-python",
   "name": "python",
   "nbconvert_exporter": "python",
   "pygments_lexer": "ipython3",
   "version": "3.9.7"
  }
 },
 "nbformat": 4,
 "nbformat_minor": 5
}
